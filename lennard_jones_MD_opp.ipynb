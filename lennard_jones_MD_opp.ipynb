{
 "cells": [
  {
   "cell_type": "markdown",
   "metadata": {},
   "source": [
    "### Importing modules"
   ]
  },
  {
   "cell_type": "code",
   "execution_count": 1,
   "metadata": {},
   "outputs": [],
   "source": [
    "import hoomd\n",
    "import hoomd.md\n",
    "import gsd, gsd.hoomd\n",
    "import plato.draw.vispy as draw\n",
    "import ipywidgets as widgets\n",
    "import random\n",
    "import numpy as np\n",
    "import matplotlib.pyplot as pp"
   ]
  },
  {
   "cell_type": "markdown",
   "metadata": {},
   "source": [
    "### Simulation setup"
   ]
  },
  {
   "cell_type": "code",
   "execution_count": 2,
   "metadata": {},
   "outputs": [
    {
     "name": "stdout",
     "output_type": "stream",
     "text": [
      "HOOMD-blue 2.9.2 DOUBLE HPMC_MIXED TBB SSE SSE2 SSE3 \n",
      "Compiled: 06/26/2020\n",
      "Copyright (c) 2009-2019 The Regents of the University of Michigan.\n",
      "-----\n",
      "You are using HOOMD-blue. Please cite the following:\n",
      "* J A Anderson, J Glaser, and S C Glotzer. \"HOOMD-blue: A Python package for\n",
      "  high-performance molecular dynamics and hard particle Monte Carlo\n",
      "  simulations\", Computational Materials Science 173 (2020) 109363\n",
      "-----\n",
      "HOOMD-blue is running on the CPU\n"
     ]
    },
    {
     "data": {
      "text/plain": [
       "<hoomd.context.SimulationContext at 0x108d44040>"
      ]
     },
     "execution_count": 2,
     "metadata": {},
     "output_type": "execute_result"
    }
   ],
   "source": [
    "hoomd.context.initialize(\"\")"
   ]
  },
  {
   "cell_type": "code",
   "execution_count": 3,
   "metadata": {},
   "outputs": [],
   "source": [
    "# setting parameters\n",
    "\n",
    "# number of particles, cube root\n",
    "# represents number of particles along one side of our 3D box\n",
    "num_particles_cubert = 10\n",
    "\n",
    "# lattice constant defines spacing between particles\n",
    "lattice_const = 3.0\n",
    "\n",
    "# temperature settings\n",
    "startTemp = 1.0\n",
    "endTemp = 0.1\n",
    "\n",
    "# set simulation length\n",
    "timeSteps = 2e6"
   ]
  },
  {
   "cell_type": "code",
   "execution_count": 4,
   "metadata": {},
   "outputs": [
    {
     "name": "stdout",
     "output_type": "stream",
     "text": [
      "notice(2): Group \"all\" created containing 1000 particles\n"
     ]
    }
   ],
   "source": [
    "system = hoomd.init.create_lattice(unitcell=hoomd.lattice.sc(a=lattice_const), n=num_particles_cubert)\n",
    "\n",
    "# randomize velocities based on temperature\n",
    "for p in system.particles:\n",
    "    mass = p.mass;\n",
    "    vx = random.gauss(0, startTemp / mass)\n",
    "    vy = random.gauss(0, startTemp / mass)\n",
    "    vz = random.gauss(0, startTemp / mass)\n",
    "    p.velocity = (vx, vy, vz)"
   ]
  },
  {
   "cell_type": "code",
   "execution_count": 5,
   "metadata": {},
   "outputs": [
    {
     "name": "stdout",
     "output_type": "stream",
     "text": [
      "1.0446699999980171\n",
      "1.2338999999992568\n",
      "1.650510000001986\n",
      "2.048140000004591\n",
      "2.4444700000071875\n",
      "2.8397900000097773\n"
     ]
    }
   ],
   "source": [
    "# Oscillating pair potential\n",
    "\n",
    "def OPP(r, rmin, rmax, k, phi, shift, scale):\n",
    "    cos = np.cos(k * (r-1) + phi)\n",
    "    sin = np.sin(k * (r-1) + phi)\n",
    "    V = (1/r**15 + cos/r**3 - shift)*scale\n",
    "    F = (15/r**16 + 3*cos/r**4 + k*sin/r**3)*scale\n",
    "    return V, F\n",
    "\n",
    "# Determine the potential range by searching for extrema\n",
    "def determineRange(k, phi):\n",
    "    r = 0.5\n",
    "    extrema = []\n",
    "    extremaNum = 0\n",
    "    force1 = OPP(r, 0, 0, k, phi, shift=0, scale=1)[1]\n",
    "    while ((extremaNum < 4 or extrema[0] >= extrema[3]) and extremaNum < 6 and r < 5.0):\n",
    "    #while (extremaNum < 6 and r < 5.0):\n",
    "        r += 1e-5\n",
    "        force2 = OPP(r, 0, 0, k, phi, shift=0, scale=1)[1]\n",
    "        if (force1 * force2 < 0.0):\n",
    "            extremaNum += 1\n",
    "            force1 = force2\n",
    "            extrema.append(OPP(r, 0, 0, k, phi, shift=0, scale=1)[0])\n",
    "            print(r)\n",
    "    shifted = OPP(r, 0, 0, k, phi, shift=0, scale=1)[0]\n",
    "    scale = -1/(min(extrema)-shifted)\n",
    "    #print([scale*(i-shifted) for i in extrema])\n",
    "    return r, shifted, scale\n",
    "\n",
    "nl = hoomd.md.nlist.cell()\n",
    "table = hoomd.md.pair.table(width = 1000, nlist = nl)\n",
    "r_range, shift, scale = determineRange(8.0, 4.0) #k, phi\n",
    "\n",
    "table.pair_coeff.set('A', 'A', func = OPP, rmin = 0.5, rmax = r_range,\n",
    "                coeff = dict(k=8.0, phi=4.0, shift=shift, scale=scale))"
   ]
  },
  {
   "cell_type": "code",
   "execution_count": 6,
   "metadata": {},
   "outputs": [
    {
     "data": {
      "text/plain": [
       "<hoomd.md.integrate.nvt at 0x108d2fb80>"
      ]
     },
     "execution_count": 6,
     "metadata": {},
     "output_type": "execute_result"
    }
   ],
   "source": [
    "# set integration parameters\n",
    "\n",
    "hoomd.md.integrate.mode_standard(dt=0.005)\n",
    "\n",
    "all = hoomd.group.all()\n",
    "hoomd.md.integrate.nvt(group=all, \n",
    "                       kT=hoomd.variant.linear_interp(points = [(0, startTemp), (timeSteps, endTemp)]), \n",
    "                       tau=1.0)"
   ]
  },
  {
   "cell_type": "code",
   "execution_count": 7,
   "metadata": {},
   "outputs": [
    {
     "data": {
      "text/plain": [
       "<hoomd.analyze.log at 0x108d2ff40>"
      ]
     },
     "execution_count": 7,
     "metadata": {},
     "output_type": "execute_result"
    }
   ],
   "source": [
    "# record data\n",
    "\n",
    "# for visualization\n",
    "hoomd.dump.gsd(\"dump4.gsd\", period=timeSteps*1e-2, group=all, overwrite=True)\n",
    "\n",
    "# for plots\n",
    "hoomd.analyze.log(filename=\"dump.log\",\n",
    "                  quantities=['time', 'potential_energy', 'temperature'],\n",
    "                  period=timeSteps*1e-2,\n",
    "                  overwrite=True)"
   ]
  },
  {
   "cell_type": "code",
   "execution_count": 8,
   "metadata": {},
   "outputs": [
    {
     "name": "stdout",
     "output_type": "stream",
     "text": [
      "notice(2): -- Neighborlist exclusion statistics -- :\n",
      "notice(2): Particles with 0 exclusions             : 1000\n",
      "notice(2): Neighbors included by diameter          : no\n",
      "notice(2): Neighbors excluded when in the same body: no\n",
      "** starting run **\n",
      "Time 00:00:11 | Step 37961 / 2000000 | TPS 3796.06 | ETA 00:08:36\n",
      "Time 00:00:21 | Step 78319 / 2000000 | TPS 4035.54 | ETA 00:07:56\n",
      "Time 00:00:31 | Step 119552 / 2000000 | TPS 4123.24 | ETA 00:07:36\n",
      "Time 00:00:41 | Step 160679 / 2000000 | TPS 4112.68 | ETA 00:07:27\n",
      "Time 00:00:51 | Step 201666 / 2000000 | TPS 4098.63 | ETA 00:07:18\n",
      "Time 00:01:01 | Step 242197 / 2000000 | TPS 4053.04 | ETA 00:07:13\n",
      "Time 00:01:11 | Step 283187 / 2000000 | TPS 4098.98 | ETA 00:06:58\n",
      "Time 00:01:21 | Step 324209 / 2000000 | TPS 4102.15 | ETA 00:06:48\n",
      "Time 00:01:31 | Step 364754 / 2000000 | TPS 4054.44 | ETA 00:06:43\n",
      "Time 00:01:41 | Step 404655 / 2000000 | TPS 3990.06 | ETA 00:06:39\n",
      "Time 00:01:51 | Step 443648 / 2000000 | TPS 3899.26 | ETA 00:06:39\n",
      "Time 00:02:01 | Step 482023 / 2000000 | TPS 3837.43 | ETA 00:06:35\n",
      "Time 00:02:11 | Step 520227 / 2000000 | TPS 3820.35 | ETA 00:06:27\n",
      "Time 00:02:21 | Step 551384 / 2000000 | TPS 3115.48 | ETA 00:07:44\n",
      "Time 00:02:31 | Step 574085 / 2000000 | TPS 2270.04 | ETA 00:10:28\n",
      "Time 00:02:41 | Step 595437 / 2000000 | TPS 2135.11 | ETA 00:10:57\n",
      "Time 00:02:51 | Step 615281 / 2000000 | TPS 1984.32 | ETA 00:11:37\n",
      "Time 00:03:01 | Step 633003 / 2000000 | TPS 1772.14 | ETA 00:12:51\n",
      "Time 00:03:11 | Step 649677 / 2000000 | TPS 1667.18 | ETA 00:13:29\n",
      "Time 00:03:21 | Step 664667 / 2000000 | TPS 1499 | ETA 00:14:50\n",
      "Time 00:03:31 | Step 677773 / 2000000 | TPS 1310.56 | ETA 00:16:48\n",
      "Time 00:03:41 | Step 690387 / 2000000 | TPS 1261.36 | ETA 00:17:18\n",
      "Time 00:03:51 | Step 702355 / 2000000 | TPS 1196.78 | ETA 00:18:04\n",
      "Time 00:04:01 | Step 713496 / 2000000 | TPS 1114.04 | ETA 00:19:14\n",
      "Time 00:04:11 | Step 724418 / 2000000 | TPS 1092.17 | ETA 00:19:27\n",
      "Time 00:04:21 | Step 735021 / 2000000 | TPS 1060.27 | ETA 00:19:53\n",
      "Time 00:04:31 | Step 745426 / 2000000 | TPS 1040.43 | ETA 00:20:05\n",
      "Time 00:04:41 | Step 755536 / 2000000 | TPS 1010.99 | ETA 00:20:30\n",
      "Time 00:04:51 | Step 765495 / 2000000 | TPS 995.779 | ETA 00:20:39\n",
      "Time 00:05:01 | Step 774101 / 2000000 | TPS 859.923 | ETA 00:23:45\n",
      "Time 00:05:11 | Step 783355 / 2000000 | TPS 925.305 | ETA 00:21:54\n",
      "Time 00:05:21 | Step 792695 / 2000000 | TPS 933.923 | ETA 00:21:32\n",
      "Time 00:05:31 | Step 802029 / 2000000 | TPS 933.122 | ETA 00:21:23\n",
      "Time 00:05:41 | Step 811172 / 2000000 | TPS 914.241 | ETA 00:21:40\n",
      "Time 00:05:51 | Step 820299 / 2000000 | TPS 912.699 | ETA 00:21:32\n",
      "Time 00:06:01 | Step 829179 / 2000000 | TPS 887.923 | ETA 00:21:58\n",
      "Time 00:06:11 | Step 837914 / 2000000 | TPS 873.465 | ETA 00:22:10\n",
      "Time 00:06:21 | Step 846316 / 2000000 | TPS 839.922 | ETA 00:22:53\n",
      "Time 00:06:31 | Step 854923 / 2000000 | TPS 860.411 | ETA 00:22:10\n",
      "Time 00:06:41 | Step 863753 / 2000000 | TPS 882.838 | ETA 00:21:27\n",
      "Time 00:06:51 | Step 872461 / 2000000 | TPS 870.765 | ETA 00:21:34\n",
      "Time 00:07:01 | Step 881004 / 2000000 | TPS 854.254 | ETA 00:21:49\n",
      "Time 00:07:11 | Step 889594 / 2000000 | TPS 858.971 | ETA 00:21:32\n",
      "Time 00:07:21 | Step 898048 / 2000000 | TPS 845.362 | ETA 00:21:43\n",
      "Time 00:07:31 | Step 906654 / 2000000 | TPS 860.554 | ETA 00:21:10\n",
      "Time 00:07:41 | Step 915087 / 2000000 | TPS 843.223 | ETA 00:21:26\n",
      "Time 00:07:51 | Step 923581 / 2000000 | TPS 849.332 | ETA 00:21:07\n",
      "Time 00:08:01 | Step 932016 / 2000000 | TPS 843.371 | ETA 00:21:06\n",
      "Time 00:08:11 | Step 940485 / 2000000 | TPS 846.842 | ETA 00:20:51\n",
      "Time 00:08:21 | Step 948919 / 2000000 | TPS 843.326 | ETA 00:20:46\n",
      "Time 00:08:31 | Step 957301 / 2000000 | TPS 837.984 | ETA 00:20:44\n",
      "Time 00:08:41 | Step 965621 / 2000000 | TPS 831.97 | ETA 00:20:43\n",
      "Time 00:08:51 | Step 973974 / 2000000 | TPS 835.111 | ETA 00:20:28\n",
      "Time 00:09:01 | Step 982310 / 2000000 | TPS 833.571 | ETA 00:20:20\n",
      "Time 00:09:11 | Step 990635 / 2000000 | TPS 832.454 | ETA 00:20:12\n",
      "Time 00:09:21 | Step 998963 / 2000000 | TPS 832.725 | ETA 00:20:02\n",
      "Time 00:09:31 | Step 1007237 / 2000000 | TPS 827.214 | ETA 00:20:00\n",
      "Time 00:09:41 | Step 1015562 / 2000000 | TPS 832.473 | ETA 00:19:42\n",
      "Time 00:09:51 | Step 1023891 / 2000000 | TPS 832.821 | ETA 00:19:32\n",
      "Time 00:10:01 | Step 1032194 / 2000000 | TPS 830.257 | ETA 00:19:25\n",
      "Time 00:10:11 | Step 1040462 / 2000000 | TPS 826.627 | ETA 00:19:20\n",
      "Time 00:10:21 | Step 1048759 / 2000000 | TPS 829.688 | ETA 00:19:06\n",
      "Time 00:10:31 | Step 1057093 / 2000000 | TPS 833.34 | ETA 00:18:51\n",
      "Time 00:10:41 | Step 1065437 / 2000000 | TPS 834.374 | ETA 00:18:40\n",
      "Time 00:10:51 | Step 1073743 / 2000000 | TPS 830.564 | ETA 00:18:35\n",
      "Time 00:11:01 | Step 1081050 / 2000000 | TPS 730.61 | ETA 00:20:57\n",
      "Time 00:11:11 | Step 1089145 / 2000000 | TPS 809.472 | ETA 00:18:45\n",
      "Time 00:11:21 | Step 1097321 / 2000000 | TPS 817.566 | ETA 00:18:24\n",
      "Time 00:11:31 | Step 1105516 / 2000000 | TPS 819.462 | ETA 00:18:11\n",
      "Time 00:11:41 | Step 1113688 / 2000000 | TPS 817.158 | ETA 00:18:04\n",
      "Time 00:11:51 | Step 1121870 / 2000000 | TPS 818.164 | ETA 00:17:53\n",
      "Time 00:12:01 | Step 1130017 / 2000000 | TPS 814.685 | ETA 00:17:47\n",
      "Time 00:12:11 | Step 1138148 / 2000000 | TPS 813.041 | ETA 00:17:40\n",
      "Time 00:12:21 | Step 1146325 / 2000000 | TPS 817.669 | ETA 00:17:24\n",
      "Time 00:12:31 | Step 1154506 / 2000000 | TPS 818.031 | ETA 00:17:13\n",
      "Time 00:12:41 | Step 1162670 / 2000000 | TPS 816.386 | ETA 00:17:05\n",
      "Time 00:12:51 | Step 1170802 / 2000000 | TPS 813.194 | ETA 00:16:59\n",
      "Time 00:13:01 | Step 1178877 / 2000000 | TPS 807.444 | ETA 00:16:56\n",
      "Time 00:13:11 | Step 1186992 / 2000000 | TPS 811.499 | ETA 00:16:41\n",
      "Time 00:13:21 | Step 1194976 / 2000000 | TPS 798.373 | ETA 00:16:48\n",
      "Time 00:13:31 | Step 1203101 / 2000000 | TPS 812.304 | ETA 00:16:21\n",
      "Time 00:13:41 | Step 1211227 / 2000000 | TPS 812.521 | ETA 00:16:10\n",
      "Time 00:13:51 | Step 1219317 / 2000000 | TPS 808.94 | ETA 00:16:05\n",
      "Time 00:14:01 | Step 1227438 / 2000000 | TPS 812.033 | ETA 00:15:51\n",
      "Time 00:14:11 | Step 1235527 / 2000000 | TPS 808.862 | ETA 00:15:45\n",
      "Time 00:14:21 | Step 1243712 / 2000000 | TPS 818.455 | ETA 00:15:24\n",
      "Time 00:14:31 | Step 1251917 / 2000000 | TPS 820.242 | ETA 00:15:12\n",
      "Time 00:14:41 | Step 1260132 / 2000000 | TPS 821.471 | ETA 00:15:00\n",
      "Time 00:14:51 | Step 1268330 / 2000000 | TPS 819.796 | ETA 00:14:52\n",
      "Time 00:15:01 | Step 1276540 / 2000000 | TPS 820.978 | ETA 00:14:41\n",
      "Time 00:15:11 | Step 1284776 / 2000000 | TPS 823.523 | ETA 00:14:28\n",
      "Time 00:15:21 | Step 1293034 / 2000000 | TPS 825.687 | ETA 00:14:16\n",
      "Time 00:15:31 | Step 1301288 / 2000000 | TPS 825.351 | ETA 00:14:06\n",
      "Time 00:15:41 | Step 1309531 / 2000000 | TPS 824.232 | ETA 00:13:57\n",
      "Time 00:15:51 | Step 1317837 / 2000000 | TPS 830.532 | ETA 00:13:41\n",
      "Time 00:16:01 | Step 1326119 / 2000000 | TPS 827.953 | ETA 00:13:33\n",
      "Time 00:16:11 | Step 1334390 / 2000000 | TPS 827.004 | ETA 00:13:24\n",
      "Time 00:16:21 | Step 1342672 / 2000000 | TPS 828.158 | ETA 00:13:13\n",
      "Time 00:16:31 | Step 1350961 / 2000000 | TPS 828.837 | ETA 00:13:03\n",
      "Time 00:16:41 | Step 1359276 / 2000000 | TPS 831.446 | ETA 00:12:50\n",
      "Time 00:16:51 | Step 1367493 / 2000000 | TPS 821.664 | ETA 00:12:49\n",
      "Time 00:17:01 | Step 1375737 / 2000000 | TPS 824.385 | ETA 00:12:37\n",
      "Time 00:17:11 | Step 1383877 / 2000000 | TPS 813.951 | ETA 00:12:36\n",
      "Time 00:17:21 | Step 1392135 / 2000000 | TPS 825.792 | ETA 00:12:16\n",
      "Time 00:17:31 | Step 1400315 / 2000000 | TPS 817.936 | ETA 00:12:13\n",
      "Time 00:17:41 | Step 1408557 / 2000000 | TPS 824.194 | ETA 00:11:57\n",
      "Time 00:17:51 | Step 1416786 / 2000000 | TPS 822.827 | ETA 00:11:48\n",
      "Time 00:18:01 | Step 1424974 / 2000000 | TPS 818.754 | ETA 00:11:42\n",
      "Time 00:18:11 | Step 1432598 / 2000000 | TPS 762.377 | ETA 00:12:24\n",
      "Time 00:18:21 | Step 1439412 / 2000000 | TPS 681.333 | ETA 00:13:42\n",
      "Time 00:18:31 | Step 1446173 / 2000000 | TPS 676.044 | ETA 00:13:39\n",
      "Time 00:18:41 | Step 1453145 / 2000000 | TPS 697.193 | ETA 00:13:04\n",
      "Time 00:18:51 | Step 1461502 / 2000000 | TPS 835.672 | ETA 00:10:44\n",
      "Time 00:19:01 | Step 1469779 / 2000000 | TPS 827.665 | ETA 00:10:40\n",
      "Time 00:19:11 | Step 1477836 / 2000000 | TPS 805.669 | ETA 00:10:48\n",
      "Time 00:19:21 | Step 1485746 / 2000000 | TPS 790.929 | ETA 00:10:50\n",
      "Time 00:19:31 | Step 1493834 / 2000000 | TPS 808.765 | ETA 00:10:25\n",
      "Time 00:19:41 | Step 1501994 / 2000000 | TPS 815.946 | ETA 00:10:10\n"
     ]
    },
    {
     "name": "stdout",
     "output_type": "stream",
     "text": [
      "Time 00:19:51 | Step 1510405 / 2000000 | TPS 841.039 | ETA 00:09:42\n",
      "Time 00:20:01 | Step 1518665 / 2000000 | TPS 825.713 | ETA 00:09:42\n",
      "Time 00:20:11 | Step 1527062 / 2000000 | TPS 839.465 | ETA 00:09:23\n",
      "Time 00:20:21 | Step 1535422 / 2000000 | TPS 835.941 | ETA 00:09:15\n",
      "Time 00:20:31 | Step 1543851 / 2000000 | TPS 842.864 | ETA 00:09:01\n",
      "Time 00:20:41 | Step 1552328 / 2000000 | TPS 847.651 | ETA 00:08:48\n",
      "Time 00:20:51 | Step 1560801 / 2000000 | TPS 846.975 | ETA 00:08:38\n",
      "Time 00:21:01 | Step 1569247 / 2000000 | TPS 844.493 | ETA 00:08:30\n",
      "Time 00:21:11 | Step 1577745 / 2000000 | TPS 849.793 | ETA 00:08:16\n",
      "Time 00:21:21 | Step 1586002 / 2000000 | TPS 825.665 | ETA 00:08:21\n",
      "Time 00:21:31 | Step 1594510 / 2000000 | TPS 850.739 | ETA 00:07:56\n",
      "Time 00:21:41 | Step 1602981 / 2000000 | TPS 847.027 | ETA 00:07:48\n",
      "Time 00:21:51 | Step 1611472 / 2000000 | TPS 848.878 | ETA 00:07:37\n",
      "Time 00:22:01 | Step 1619945 / 2000000 | TPS 847.232 | ETA 00:07:28\n",
      "Time 00:22:11 | Step 1628297 / 2000000 | TPS 835.195 | ETA 00:07:25\n",
      "Time 00:22:21 | Step 1636756 / 2000000 | TPS 845.882 | ETA 00:07:09\n",
      "Time 00:22:31 | Step 1645130 / 2000000 | TPS 837.334 | ETA 00:07:03\n",
      "Time 00:22:41 | Step 1653601 / 2000000 | TPS 846.966 | ETA 00:06:48\n",
      "Time 00:22:51 | Step 1662069 / 2000000 | TPS 846.777 | ETA 00:06:39\n",
      "Time 00:23:01 | Step 1669633 / 2000000 | TPS 756.361 | ETA 00:07:16\n",
      "Time 00:23:11 | Step 1677530 / 2000000 | TPS 789.665 | ETA 00:06:48\n",
      "Time 00:23:21 | Step 1686101 / 2000000 | TPS 856.798 | ETA 00:06:06\n",
      "Time 00:23:31 | Step 1694677 / 2000000 | TPS 857.553 | ETA 00:05:56\n",
      "Time 00:23:41 | Step 1702680 / 2000000 | TPS 800.237 | ETA 00:06:11\n",
      "Time 00:23:51 | Step 1711143 / 2000000 | TPS 846.285 | ETA 00:05:41\n",
      "Time 00:24:01 | Step 1719683 / 2000000 | TPS 853.933 | ETA 00:05:28\n",
      "Time 00:24:11 | Step 1728145 / 2000000 | TPS 846.158 | ETA 00:05:21\n",
      "Time 00:24:21 | Step 1736689 / 2000000 | TPS 854.312 | ETA 00:05:08\n",
      "Time 00:24:31 | Step 1745152 / 2000000 | TPS 846.074 | ETA 00:05:01\n",
      "Time 00:24:41 | Step 1753747 / 2000000 | TPS 859.48 | ETA 00:04:46\n",
      "Time 00:24:51 | Step 1762327 / 2000000 | TPS 857.965 | ETA 00:04:37\n",
      "Time 00:25:01 | Step 1770893 / 2000000 | TPS 856.524 | ETA 00:04:27\n",
      "Time 00:25:11 | Step 1779503 / 2000000 | TPS 860.934 | ETA 00:04:16\n",
      "Time 00:25:21 | Step 1788131 / 2000000 | TPS 862.785 | ETA 00:04:05\n",
      "Time 00:25:31 | Step 1796741 / 2000000 | TPS 860.965 | ETA 00:03:56\n",
      "Time 00:25:41 | Step 1805216 / 2000000 | TPS 847.442 | ETA 00:03:49\n",
      "Time 00:25:51 | Step 1813781 / 2000000 | TPS 856.476 | ETA 00:03:37\n",
      "Time 00:26:01 | Step 1822389 / 2000000 | TPS 860.751 | ETA 00:03:26\n",
      "Time 00:26:11 | Step 1831020 / 2000000 | TPS 863.039 | ETA 00:03:15\n",
      "Time 00:26:21 | Step 1839682 / 2000000 | TPS 866.188 | ETA 00:03:05\n",
      "Time 00:26:31 | Step 1848395 / 2000000 | TPS 871.128 | ETA 00:02:54\n",
      "Time 00:26:41 | Step 1857104 / 2000000 | TPS 870.816 | ETA 00:02:44\n",
      "Time 00:26:51 | Step 1865850 / 2000000 | TPS 874.519 | ETA 00:02:33\n",
      "Time 00:27:01 | Step 1874589 / 2000000 | TPS 873.826 | ETA 00:02:23\n",
      "Time 00:27:11 | Step 1883403 / 2000000 | TPS 881.325 | ETA 00:02:12\n",
      "Time 00:27:21 | Step 1892180 / 2000000 | TPS 877.669 | ETA 00:02:02\n",
      "Time 00:27:31 | Step 1900955 / 2000000 | TPS 877.454 | ETA 00:01:52\n",
      "Time 00:27:41 | Step 1909784 / 2000000 | TPS 882.678 | ETA 00:01:42\n",
      "Time 00:27:51 | Step 1918667 / 2000000 | TPS 888.271 | ETA 00:01:31\n",
      "Time 00:28:01 | Step 1927483 / 2000000 | TPS 881.538 | ETA 00:01:22\n",
      "Time 00:28:11 | Step 1935572 / 2000000 | TPS 808.819 | ETA 00:01:19\n",
      "Time 00:28:21 | Step 1942604 / 2000000 | TPS 703.148 | ETA 00:01:21\n",
      "Time 00:28:31 | Step 1950693 / 2000000 | TPS 808.866 | ETA 00:01:00\n",
      "Time 00:28:41 | Step 1959026 / 2000000 | TPS 833.283 | ETA 00:00:49\n",
      "Time 00:28:51 | Step 1967739 / 2000000 | TPS 871.181 | ETA 00:00:37\n",
      "Time 00:29:01 | Step 1976427 / 2000000 | TPS 868.677 | ETA 00:00:27\n",
      "Time 00:29:11 | Step 1984624 / 2000000 | TPS 819.651 | ETA 00:00:18\n",
      "Time 00:29:21 | Step 1992325 / 2000000 | TPS 770.036 | ETA 00:00:09\n",
      "Time 00:29:30 | Step 2000000 / 2000000 | TPS 874.686 | ETA 00:00:00\n",
      "Average TPS: 1130.63\n",
      "---------\n",
      "-- Neighborlist stats:\n",
      "124426 normal updates / 20000 forced updates / 0 dangerous updates\n",
      "n_neigh_min: 0 / n_neigh_max: 77 / n_neigh_avg: 29.77\n",
      "shortest rebuild period: 7\n",
      "-- Cell list stats:\n",
      "Dimension: 9, 9, 9\n",
      "n_min    : 0 / n_max: 26 / n_avg: 1.37174\n",
      "** run complete **\n"
     ]
    }
   ],
   "source": [
    "# running simulation\n",
    "\n",
    "hoomd.run(timeSteps)"
   ]
  },
  {
   "cell_type": "markdown",
   "metadata": {},
   "source": [
    "### Visualizing simulation"
   ]
  },
  {
   "cell_type": "code",
   "execution_count": 9,
   "metadata": {},
   "outputs": [],
   "source": [
    "def getFrameCount(fname):\n",
    "    \"\"\"\n",
    "    inputs: fname, the filename (ex: 'dump.gsd')\n",
    "    outputs: len(traj), number of frames in simulation\n",
    "    \"\"\"\n",
    "    with gsd.hoomd.open(fname, 'rb') as traj:\n",
    "        return len(traj)"
   ]
  },
  {
   "cell_type": "code",
   "execution_count": 10,
   "metadata": {},
   "outputs": [],
   "source": [
    "filename = 'dump4.gsd'\n",
    "frame_num = getFrameCount(filename)"
   ]
  },
  {
   "cell_type": "code",
   "execution_count": 11,
   "metadata": {},
   "outputs": [],
   "source": [
    "# function for centering droplet\n",
    "def centercrystal(simulationbox,particlepositions):\n",
    "    \"\"\"\n",
    "    Recentering the positions of all particles relative to COM, because otherwise they are split across the \"box\"\n",
    "    Algorithm projects points along 3 orthogonal cylinders, finds COM, projects back into real space\n",
    "    Useful resource w/ similar algorithm: https://www.cs.drexel.edu/~david/Papers/Bai_JGT.pdf\n",
    "    \n",
    "    inputs:\n",
    "    simulationbox= 6x1 array of the box dimensions [Lx Ly Lz xy xz yz]\n",
    "    particlepositions= the positions of the particles from the snapshot, #particles x 3 dimensions (xyz) array\n",
    "    \n",
    "    \"\"\"    \n",
    "    #center particles\n",
    "    simbox=[simulationbox[3]-simulationbox[0], simulationbox[4]-simulationbox[1], simulationbox[5]-simulationbox[2]]\n",
    "    theta = (particlepositions / simbox + .5) * 2 * np.pi\n",
    "    sums = np.sum(np.exp(1j * theta), axis = 0)\n",
    "    fractions = np.angle(sums) / 2 / np.pi\n",
    "    fractions %= 1.\n",
    "    fractions -= .5\n",
    "    delta = fractions * simbox\n",
    "    pos_CM=np.copy(particlepositions)\n",
    "    pos_CM[:] -= delta[np.newaxis, :]\n",
    "    \n",
    "    # wrap particles back into box\n",
    "    pos_CM[pos_CM[:, 0] > simulationbox[0]/2] -= [simulationbox[0], 0, 0]\n",
    "    pos_CM[pos_CM[:, 1] > simulationbox[1]/2] -= [0, simulationbox[1], 0]\n",
    "    pos_CM[pos_CM[:, 2] > simulationbox[2]/2] -= [0, 0, simulationbox[2]]\n",
    "    pos_CM[pos_CM[:, 0] < -simulationbox[0]/2] += [simulationbox[0], 0, 0]\n",
    "    pos_CM[pos_CM[:, 1] < -simulationbox[1]/2] += [0, simulationbox[1], 0]\n",
    "    pos_CM[pos_CM[:, 2] < -simulationbox[2]/2] += [0, 0, simulationbox[2]]\n",
    "    \n",
    "    return pos_CM"
   ]
  },
  {
   "cell_type": "code",
   "execution_count": 12,
   "metadata": {},
   "outputs": [
    {
     "data": {
      "application/vnd.jupyter.widget-view+json": {
       "model_id": "267c769f7f504a6f9e095503c9c04b1f",
       "version_major": 2,
       "version_minor": 0
      },
      "text/plain": [
       "VispyWidget(height=600, width=800)"
      ]
     },
     "metadata": {},
     "output_type": "display_data"
    },
    {
     "data": {
      "application/vnd.jupyter.widget-view+json": {
       "model_id": "44d9ca73d5274d91981b82e88c386722",
       "version_major": 2,
       "version_minor": 0
      },
      "text/plain": [
       "interactive(children=(IntSlider(value=0, description='frame_index', max=99), Output()), _dom_classes=('widget-…"
      ]
     },
     "metadata": {},
     "output_type": "display_data"
    }
   ],
   "source": [
    "prim = draw.Spheres()\n",
    "box_prim = draw.Box(color=(0, 0, 0, 1), width=.2) #box\n",
    "scene = draw.Scene([prim, box_prim], zoom=.5, clip_scale=5) #box\n",
    "#scene = draw.Scene(prim) # no box\n",
    "scene.show()\n",
    "\n",
    "# looping over frames\n",
    "@widgets.interact(frame_index=(0, frame_num-1, 1))\n",
    "def plot(frame_index=0):\n",
    "    with gsd.hoomd.open(filename, 'rb') as traj:\n",
    "        frame = traj[frame_index]\n",
    "        box = frame.configuration.box\n",
    "        for (name, val) in zip(['Lx', 'Ly', 'Lz', 'xy', 'xz', 'yz'], box):\n",
    "            setattr(box_prim, name, val)  \n",
    "        \n",
    "        # grabbing particle positions and diameters from simulation file\n",
    "        prim.positions = centercrystal(box, frame.particles.position)\n",
    "        #prim.positions = frame.particles.position\n",
    "        prim.diameters = np.full(len(frame.particles.position), 1)\n",
    "        \n",
    "        # setting particle colors\n",
    "        colors = np.ones((len(prim.positions), 4))\n",
    "        colors[:, :3] = np.float32(np.divide([255, 0, 0], 255)) #pink\n",
    "        prim.colors = colors\n",
    "    scene.render()"
   ]
  },
  {
   "cell_type": "markdown",
   "metadata": {},
   "source": [
    "### Plotting simulation data over time"
   ]
  },
  {
   "cell_type": "code",
   "execution_count": null,
   "metadata": {},
   "outputs": [],
   "source": [
    "data = np.genfromtxt(fname='dump.log', skip_header=True);"
   ]
  },
  {
   "cell_type": "code",
   "execution_count": null,
   "metadata": {},
   "outputs": [],
   "source": [
    "pp.figure(figsize=(4,2.2), dpi=140)\n",
    "pp.plot(data[:,1], data[:,2])\n",
    "pp.xlabel('time')\n",
    "pp.ylabel('potential energy')"
   ]
  },
  {
   "cell_type": "code",
   "execution_count": null,
   "metadata": {},
   "outputs": [],
   "source": [
    "pp.figure(figsize=(4,2.2), dpi=140);\n",
    "pp.plot(data[:,1], data[:,3]);\n",
    "pp.xlabel('time');\n",
    "pp.ylabel('temperature');"
   ]
  },
  {
   "cell_type": "code",
   "execution_count": null,
   "metadata": {},
   "outputs": [],
   "source": []
  },
  {
   "cell_type": "code",
   "execution_count": null,
   "metadata": {},
   "outputs": [],
   "source": []
  },
  {
   "cell_type": "code",
   "execution_count": null,
   "metadata": {},
   "outputs": [],
   "source": []
  }
 ],
 "metadata": {
  "kernelspec": {
   "display_name": "Python 3",
   "language": "python",
   "name": "python3"
  },
  "language_info": {
   "codemirror_mode": {
    "name": "ipython",
    "version": 3
   },
   "file_extension": ".py",
   "mimetype": "text/x-python",
   "name": "python",
   "nbconvert_exporter": "python",
   "pygments_lexer": "ipython3",
   "version": "3.8.8"
  }
 },
 "nbformat": 4,
 "nbformat_minor": 4
}
